{
 "cells": [
  {
   "cell_type": "code",
   "execution_count": 1,
   "metadata": {},
   "outputs": [],
   "source": [
    "import os,shutil"
   ]
  },
  {
   "cell_type": "code",
   "execution_count": 2,
   "metadata": {},
   "outputs": [],
   "source": [
    "original_dir = '/home/home/Git/DataSets/Dogs_Cats/train'"
   ]
  },
  {
   "cell_type": "code",
   "execution_count": 3,
   "metadata": {},
   "outputs": [],
   "source": [
    "base_dir = '/home/home/Git/DataSets/Dogs_Cats/train_4000_test_1000/'"
   ]
  },
  {
   "cell_type": "code",
   "execution_count": 4,
   "metadata": {},
   "outputs": [],
   "source": [
    "train_dir = os.path.join(base_dir,'train')\n",
    "validation_dir = os.path.join(base_dir,'validation')\n",
    "test_dir = os.path.join(base_dir,'test')\n",
    "train_cats_dir = os.path.join(train_dir,'cats')\n",
    "train_dogs_dir = os.path.join(train_dir,'dogs')\n",
    "validation_cats_dir = os.path.join(validation_dir,'cats')\n",
    "validation_dogs_dir = os.path.join(validation_dir,'dogs')\n",
    "test_cats_dir = os.path.join(test_dir,'cats')\n",
    "test_dogs_dir = os.path.join(test_dir,'dogs')\n"
   ]
  },
  {
   "cell_type": "code",
   "execution_count": null,
   "metadata": {},
   "outputs": [],
   "source": [
    "os.mkdir(train_dir)\n",
    "os.mkdir(validation_dir)\n",
    "os.mkdir(test_dir)\n",
    "os.mkdir(train_cats_dir)\n",
    "os.mkdir(train_dogs_dir)\n",
    "os.mkdir(validation_cats_dir)\n",
    "os.mkdir(validation_dogs_dir)\n",
    "os.mkdir(test_cats_dir)\n",
    "os.mkdir(test_dogs_dir)"
   ]
  },
  {
   "cell_type": "code",
   "execution_count": 16,
   "metadata": {},
   "outputs": [],
   "source": [
    "fnames = ['cat.{}.jpg'.format(i) for i in range(1000)]\n",
    "for fname in fnames:\n",
    "    src = os.path.join(original_dir,fname)\n",
    "    dst = os.path.join(train_cats_dir,fname)\n",
    "    shutil.copyfile(src,dst)\n",
    "fnames = ['cat.{}.jpg'.format(i) for i in range(1000,1500)]\n",
    "for fname in fnames:\n",
    "    src = os.path.join(original_dir,fname)\n",
    "    dst = os.path.join(validation_cats_dir,fname)\n",
    "    shutil.copyfile(src,dst)\n",
    "fnames = ['cat.{}.jpg'.format(i) for i in range(1500,2000)]\n",
    "for fname in fnames:\n",
    "    src = os.path.join(original_dir,fname)\n",
    "    dst = os.path.join(test_cats_dir,fname)\n",
    "    shutil.copyfile(src,dst)\n",
    "fnames = ['dog.{}.jpg'.format(i) for i in range(1000)]   \n",
    "for fname in fnames:\n",
    "    src = os.path.join(original_dir,fname)\n",
    "    dst = os.path.join(train_dogs_dir,fname)\n",
    "    shutil.copyfile(src,dst)\n",
    "fnames = ['dog.{}.jpg'.format(i) for i in range(1000,1500)]\n",
    "for fname in fnames:\n",
    "    src = os.path.join(original_dir,fname)\n",
    "    dst = os.path.join(validation_dogs_dir,fname)\n",
    "    shutil.copyfile(src,dst)\n",
    "fnames = ['dog.{}.jpg'.format(i) for i in range(1500,2000)]\n",
    "for fname in fnames:\n",
    "    src = os.path.join(original_dir,fname)\n",
    "    dst = os.path.join(test_dogs_dir,fname)\n",
    "    shutil.copyfile(src,dst)"
   ]
  },
  {
   "cell_type": "code",
   "execution_count": 25,
   "metadata": {},
   "outputs": [],
   "source": [
    "from keras import layers\n",
    "from keras import models"
   ]
  },
  {
   "cell_type": "code",
   "execution_count": 27,
   "metadata": {},
   "outputs": [],
   "source": [
    "model = models.Sequential()\n",
    "model.add(layers.Conv2D(32,(3,3),activation='relu',input_shape=(150,150,3)))\n",
    "model.add(layers.MaxPooling2D((2,2)))\n",
    "model.add(layers.Conv2D(64,(3,3),activation='relu'))\n",
    "model.add(layers.MaxPooling2D((2,2)))\n",
    "model.add(layers.Conv2D(128,(3,3),activation='relu'))\n",
    "model.add(layers.MaxPooling2D(2,2))\n",
    "model.add(layers.Conv2D(128,(3,3),activation='relu'))\n",
    "model.add(layers.MaxPooling2D(2,2))\n",
    "model.add(layers.Flatten())\n",
    "model.add(layers.Dense(512,activation='relu'))\n",
    "model.add(layers.Dense(1,activation='sigmoid'))\n"
   ]
  },
  {
   "cell_type": "code",
   "execution_count": 28,
   "metadata": {},
   "outputs": [
    {
     "name": "stdout",
     "output_type": "stream",
     "text": [
      "_________________________________________________________________\n",
      "Layer (type)                 Output Shape              Param #   \n",
      "=================================================================\n",
      "conv2d_1 (Conv2D)            (None, 148, 148, 32)      896       \n",
      "_________________________________________________________________\n",
      "max_pooling2d_1 (MaxPooling2 (None, 74, 74, 32)        0         \n",
      "_________________________________________________________________\n",
      "conv2d_2 (Conv2D)            (None, 72, 72, 64)        18496     \n",
      "_________________________________________________________________\n",
      "max_pooling2d_2 (MaxPooling2 (None, 36, 36, 64)        0         \n",
      "_________________________________________________________________\n",
      "conv2d_3 (Conv2D)            (None, 34, 34, 128)       73856     \n",
      "_________________________________________________________________\n",
      "max_pooling2d_3 (MaxPooling2 (None, 17, 17, 128)       0         \n",
      "_________________________________________________________________\n",
      "conv2d_4 (Conv2D)            (None, 15, 15, 128)       147584    \n",
      "_________________________________________________________________\n",
      "max_pooling2d_4 (MaxPooling2 (None, 7, 7, 128)         0         \n",
      "_________________________________________________________________\n",
      "flatten_1 (Flatten)          (None, 6272)              0         \n",
      "_________________________________________________________________\n",
      "dense_1 (Dense)              (None, 512)               3211776   \n",
      "_________________________________________________________________\n",
      "dense_2 (Dense)              (None, 1)                 513       \n",
      "=================================================================\n",
      "Total params: 3,453,121\n",
      "Trainable params: 3,453,121\n",
      "Non-trainable params: 0\n",
      "_________________________________________________________________\n"
     ]
    }
   ],
   "source": [
    "model.summary()"
   ]
  },
  {
   "cell_type": "code",
   "execution_count": 29,
   "metadata": {},
   "outputs": [],
   "source": [
    "from keras import optimizers\n",
    "model.compile(loss='binary_crossentropy',\n",
    "              optimizer=optimizers.RMSprop(lr=1e-4),\n",
    "              metrics=['acc'])"
   ]
  },
  {
   "cell_type": "code",
   "execution_count": 31,
   "metadata": {},
   "outputs": [
    {
     "name": "stdout",
     "output_type": "stream",
     "text": [
      "Found 2000 images belonging to 2 classes.\n",
      "Found 1000 images belonging to 2 classes.\n"
     ]
    }
   ],
   "source": [
    "from keras.preprocessing.image import ImageDataGenerator\n",
    "train_datagen = ImageDataGenerator(rescale=1./255)\n",
    "test_datagen = ImageDataGenerator(rescale=1./255)\n",
    "train_generator = train_datagen.flow_from_directory(\n",
    "                                train_dir,\n",
    "                                target_size=(150,150),\n",
    "                                batch_size=20,\n",
    "                                class_mode = 'binary')\n",
    "validation_generator = test_datagen.flow_from_directory(\n",
    "                                    validation_dir,\n",
    "                                    target_size=(150,150),\n",
    "                                    batch_size=20,\n",
    "                                    class_mode = 'binary')"
   ]
  },
  {
   "cell_type": "code",
   "execution_count": 33,
   "metadata": {},
   "outputs": [
    {
     "name": "stdout",
     "output_type": "stream",
     "text": [
      "data batch shape: (20, 150, 150, 3)\n",
      "labels batch shape: (20,)\n"
     ]
    }
   ],
   "source": [
    "for data_batch,labels_batch in train_generator:\n",
    "    print('data batch shape:',data_batch.shape)\n",
    "    print('labels batch shape:',labels_batch.shape)\n",
    "    break"
   ]
  },
  {
   "cell_type": "code",
   "execution_count": 42,
   "metadata": {},
   "outputs": [
    {
     "name": "stdout",
     "output_type": "stream",
     "text": [
      "Epoch 1/30\n",
      "100/100 [==============================] - 172s 2s/step - loss: 0.6887 - acc: 0.5355 - val_loss: 0.6737 - val_acc: 0.6070\n",
      "Epoch 2/30\n",
      "100/100 [==============================] - 165s 2s/step - loss: 0.6672 - acc: 0.6210 - val_loss: 0.6440 - val_acc: 0.6320\n",
      "Epoch 3/30\n",
      "100/100 [==============================] - 164s 2s/step - loss: 0.6158 - acc: 0.6750 - val_loss: 0.6159 - val_acc: 0.6640\n",
      "Epoch 4/30\n",
      "100/100 [==============================] - 165s 2s/step - loss: 0.5755 - acc: 0.7090 - val_loss: 0.6399 - val_acc: 0.6410\n",
      "Epoch 5/30\n",
      "100/100 [==============================] - 167s 2s/step - loss: 0.5357 - acc: 0.7300 - val_loss: 0.5933 - val_acc: 0.6760\n",
      "Epoch 6/30\n",
      "100/100 [==============================] - 165s 2s/step - loss: 0.5073 - acc: 0.7450 - val_loss: 0.5545 - val_acc: 0.7110\n",
      "Epoch 7/30\n",
      "100/100 [==============================] - 166s 2s/step - loss: 0.4815 - acc: 0.7680 - val_loss: 0.5616 - val_acc: 0.7030\n",
      "Epoch 8/30\n",
      "100/100 [==============================] - 170s 2s/step - loss: 0.4541 - acc: 0.7910 - val_loss: 0.5584 - val_acc: 0.7090\n",
      "Epoch 9/30\n",
      "100/100 [==============================] - 166s 2s/step - loss: 0.4234 - acc: 0.8080 - val_loss: 0.5729 - val_acc: 0.7170\n",
      "Epoch 10/30\n",
      "100/100 [==============================] - 165s 2s/step - loss: 0.3971 - acc: 0.8080 - val_loss: 0.5661 - val_acc: 0.7110\n",
      "Epoch 11/30\n",
      "100/100 [==============================] - 176s 2s/step - loss: 0.3733 - acc: 0.8325 - val_loss: 0.5946 - val_acc: 0.7090\n",
      "Epoch 12/30\n",
      "100/100 [==============================] - 176s 2s/step - loss: 0.3538 - acc: 0.8495 - val_loss: 0.5637 - val_acc: 0.7300\n",
      "Epoch 13/30\n",
      "100/100 [==============================] - 169s 2s/step - loss: 0.3256 - acc: 0.8675 - val_loss: 0.5388 - val_acc: 0.7430\n",
      "Epoch 14/30\n",
      "100/100 [==============================] - 170s 2s/step - loss: 0.3020 - acc: 0.8730 - val_loss: 0.5978 - val_acc: 0.7200\n",
      "Epoch 15/30\n",
      "100/100 [==============================] - 171s 2s/step - loss: 0.2856 - acc: 0.8845 - val_loss: 0.5719 - val_acc: 0.7370\n",
      "Epoch 16/30\n",
      "100/100 [==============================] - 170s 2s/step - loss: 0.2595 - acc: 0.8915 - val_loss: 0.5639 - val_acc: 0.7380\n",
      "Epoch 17/30\n",
      "100/100 [==============================] - 169s 2s/step - loss: 0.2388 - acc: 0.9050 - val_loss: 0.6964 - val_acc: 0.7190\n",
      "Epoch 18/30\n",
      "100/100 [==============================] - 169s 2s/step - loss: 0.2133 - acc: 0.9160 - val_loss: 0.7209 - val_acc: 0.7200\n",
      "Epoch 19/30\n",
      "100/100 [==============================] - 191s 2s/step - loss: 0.1940 - acc: 0.9265 - val_loss: 0.6401 - val_acc: 0.7380\n",
      "Epoch 20/30\n",
      "100/100 [==============================] - 195s 2s/step - loss: 0.1693 - acc: 0.9405 - val_loss: 0.7189 - val_acc: 0.7310\n",
      "Epoch 21/30\n",
      "100/100 [==============================] - 199s 2s/step - loss: 0.1524 - acc: 0.9460 - val_loss: 0.6748 - val_acc: 0.7340\n",
      "Epoch 22/30\n",
      "100/100 [==============================] - 200s 2s/step - loss: 0.1369 - acc: 0.9515 - val_loss: 0.7008 - val_acc: 0.7260\n",
      "Epoch 23/30\n",
      "100/100 [==============================] - 206s 2s/step - loss: 0.1145 - acc: 0.9660 - val_loss: 0.7685 - val_acc: 0.7240\n",
      "Epoch 24/30\n",
      "100/100 [==============================] - 207s 2s/step - loss: 0.0984 - acc: 0.9690 - val_loss: 0.8011 - val_acc: 0.7230\n",
      "Epoch 25/30\n",
      "100/100 [==============================] - 195s 2s/step - loss: 0.0928 - acc: 0.9685 - val_loss: 0.7832 - val_acc: 0.7280\n",
      "Epoch 26/30\n",
      "100/100 [==============================] - 196s 2s/step - loss: 0.0699 - acc: 0.9825 - val_loss: 0.8030 - val_acc: 0.7390\n",
      "Epoch 27/30\n",
      "100/100 [==============================] - 204s 2s/step - loss: 0.0717 - acc: 0.9810 - val_loss: 0.8495 - val_acc: 0.7430\n",
      "Epoch 28/30\n",
      "100/100 [==============================] - 194s 2s/step - loss: 0.0505 - acc: 0.9880 - val_loss: 0.8874 - val_acc: 0.7280\n",
      "Epoch 29/30\n",
      "100/100 [==============================] - 193s 2s/step - loss: 0.0494 - acc: 0.9860 - val_loss: 0.9138 - val_acc: 0.7320\n",
      "Epoch 30/30\n",
      "100/100 [==============================] - 213s 2s/step - loss: 0.0440 - acc: 0.9885 - val_loss: 1.0028 - val_acc: 0.7270\n"
     ]
    }
   ],
   "source": [
    "history = model.fit_generator(\n",
    "                train_generator,\n",
    "                steps_per_epoch=100,\n",
    "                epochs=30,\n",
    "                validation_data=validation_generator,\n",
    "                validation_steps=50)"
   ]
  },
  {
   "cell_type": "code",
   "execution_count": 43,
   "metadata": {},
   "outputs": [],
   "source": [
    "model.save('cats_and_dogs_small_1.h5')"
   ]
  },
  {
   "cell_type": "code",
   "execution_count": 44,
   "metadata": {},
   "outputs": [],
   "source": [
    "import matplotlib.pyplot as plt"
   ]
  },
  {
   "cell_type": "code",
   "execution_count": 45,
   "metadata": {},
   "outputs": [
    {
     "data": {
      "image/png": "[encoded data removed]",
      "text/plain": [
       "<Figure size 432x288 with 1 Axes>"
      ]
     },
     "metadata": {},
     "output_type": "display_data"
    },
    {
     "data": {
      "image/png": "[encoded data removed]",
      "text/plain": [
       "<Figure size 432x288 with 1 Axes>"
      ]
     },
     "metadata": {},
     "output_type": "display_data"
    }
   ],
   "source": [
    "acc = history.history['acc']\n",
    "val_acc = history.history['val_acc']\n",
    "loss = history.history['loss']\n",
    "val_loss = history.history['val_loss']\n",
    "\n",
    "epochs = range(1,len(acc)+1)\n",
    "\n",
    "plt.plot(epochs,acc,'r',label='Training acc')\n",
    "plt.plot(epochs,val_acc,'b',label='Validation acc')\n",
    "plt.title('Training and validation accuracy')\n",
    "plt.legend()\n",
    "\n",
    "plt.figure()\n",
    "plt.plot(epochs,loss,'r',label='Training loss')\n",
    "plt.plot(epochs,val_loss,'b',label='Validation loss')\n",
    "plt.title('Training and validation loss')\n",
    "plt.legend()\n",
    "\n",
    "plt.show()"
   ]
  },
  {
   "cell_type": "code",
   "execution_count": null,
   "metadata": {},
   "outputs": [],
   "source": [
    "#extreme overfitting since training loss almost reaches 0\n",
    "#and train acc reaches 1\n",
    "#inorder to improve performance we need to do following optimizations:\n",
    "#   -> data augmentation since training data is very less\n",
    "#   -> using regularization"
   ]
  }
 ],
 "metadata": {
  "kernelspec": {
   "display_name": "Python 3",
   "language": "python",
   "name": "python3"
  },
  "language_info": {
   "codemirror_mode": {
    "name": "ipython",
    "version": 3
   },
   "file_extension": ".py",
   "mimetype": "text/x-python",
   "name": "python",
   "nbconvert_exporter": "python",
   "pygments_lexer": "ipython3",
   "version": "3.6.5"
  }
 },
 "nbformat": 4,
 "nbformat_minor": 2
}
